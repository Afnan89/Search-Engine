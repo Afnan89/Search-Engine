{
 "cells": [
  {
   "cell_type": "code",
   "execution_count": 10,
   "metadata": {
    "collapsed": false
   },
   "outputs": [],
   "source": [
    "from primes import eratosthenes\n",
    "from primes import gen_eratosthenes"
   ]
  },
  {
   "cell_type": "markdown",
   "metadata": {},
   "source": [
    "<!--this prints a function in-line with the surrounding text-->\n",
    "<!--to make it appear, the html comment marks must be removed from the following two lines-->\n",
    "<!--\n",
    "This is what $f(x)$ looks like for this example:\n",
    "$$f(x) = \\int_x^\\infty y^2\\, dy$$\n",
    "-->"
   ]
  },
  {
   "cell_type": "markdown",
   "metadata": {},
   "source": [
    "<!--this is a markdown comment-->\n",
    "<!--this is heading one text-->\n",
    "# CW04 Prime Number Generator\n",
    "<!--this is using the Latex equation syntax to print our names in italics-->\n",
    "$Nengyin\\,(Helen)\\,Zhu,\\, Lance\\, Clifner,\\, Alexis\\, Ford$ \n",
    "\n",
    "<!--this is normal body text-->\n",
    "September 20, 2016\n",
    "\n",
    "This is Classwork Assignment number 04.  In this project, we are officially switching from python 2 to python 3, and all further classwork will be completed in python 3.\n",
    "\n",
    "For this project, we are creating a python script that computes a list of all the prime numbers between 1 and *N*, where *N* is a number passed on the command line to the prime number python script."
   ]
  },
  {
   "cell_type": "markdown",
   "metadata": {},
   "source": [
    "## The Sieve of Eratosthenes\n",
    "The algorithm we have implemented to calculate the prime number is the <a href=\"https://en.wikipedia.org/wiki/Sieve_of_Eratosthenes\">Sieve of Eratosthenes</a>.  You can follow this link to see a complete description of the algorithm, along with an animation that visually demonstrates the algorithm's steps.\n",
    "\n",
    "Our hero, Eratosthenes of Cyrene: \n",
    "![Alt text](http://www.conservapedia.com/images/b/bc/Eratosthenes.jpg \"Eratosthenes of Cyrene\")"
   ]
  },
  {
   "cell_type": "markdown",
   "metadata": {},
   "source": [
    "### Algorithm Design Goals and Considerations\n",
    "The goal of our algorithm is to implement the Sieve of Eratosthenes in a straightforward, simple, easy to read pair of nested loops.\n",
    "\n",
    "Our implementaion of the algorithm uses these steps:\n",
    "1. create a python list of all integers between 2 (the smallest prime number) and *N*\n",
    "1. calculate the stopping point, which is the ceiling of the square root of *N*\n",
    "1. start with the first number in the list\n",
    "1. check to see if we have reached the stopping point, else loop through each successive element remaining in the list until we reach the stopping point.  Call this list element our Current Prime Factor (CPF).\n",
    "1. with the inner loop, we move backwards from the end of the list until we reach our CPF element.  Call this backwards moving list element our Target\n",
    "1. check to see if the CPF divides evenly into the Target.  If it does, then remove the Target from the list (since it is an even multiple of the CPF)\n",
    "1. advance to the next CPF in the list (the next CPF is a prime number)\n",
    "1. Lather, rinse, and repeat until the stopping point is reached.\n",
    "\n",
    "Because we have a mathmetician in our group, we know that you can stop your search for primes once you have reached $\\sqrt{N}$.\n",
    "\n",
    "We chose a list as the fundamental data structure because it is one of the simplest Python data types, and is easy to manipulate for adding elements to the list (creating the initial list of integers between 2 and *N*, as well as removing elements from anywhere inside list which are multiples of the primes numbers the algorithm finds).\n",
    "\n",
    "The algorithm starts by using the CPFs from the beginning of the list because that is the direction from which you get the biggest bang for the buck.  That is, eliminating all the mutliples of 2 from the list cuts the list in half, and then the multiples of 3's cuts the list by another 1/3;  working from the end of the list would have the list impact on the list length, and would also require a priori knowledge of the prime factors.  Thus, each pass through the list requires fewer (or the same, if no Targets were eliminated) computations than the prior pass.\n",
    "\n",
    "We eliminate the Target elements from the end of the list because when a list member is removed from a list, the indices for all elements deeper in the list then change.  Trying to sequence forward through a list with changing indices requires much more bookkeeping to keep where you are in the list straight than when you move backwards through the list (all the index changes occur behind you deeper in the list while you move to the shallow end of the list and remain unaffected by those index changes)."
   ]
  },
  {
   "cell_type": "markdown",
   "metadata": {},
   "source": [
    "Next is our cut at a python implementation of Eratosthenes Sieve."
   ]
  },
  {
   "cell_type": "code",
   "execution_count": 11,
   "metadata": {
    "collapsed": false
   },
   "outputs": [
    {
     "data": {
      "text/plain": [
       "[2, 3, 5, 7, 11, 13, 17, 19, 23, 29]"
      ]
     },
     "execution_count": 11,
     "metadata": {},
     "output_type": "execute_result"
    }
   ],
   "source": [
    "# insert the prime number function here\n",
    "eratosthenes( 30 )"
   ]
  },
  {
   "cell_type": "markdown",
   "metadata": {},
   "source": [
    "### Generating Prime Numbers\n",
    "Creating long lists of prime numbers can start taking up a noticeable amounts of computer time.\n",
    "\n",
    "Using a generator context, where the generator keeps track of the last point of work and just needs to compute the next element in the desired sequence can save computational time over having a function call that generates an entire sequence from the begining and reports either all elements or the final element in the sequence.\n",
    "\n",
    "For our prime number generator, we use the following algorithm:\n",
    "1. Assume that the current iteration value is a Prime Number\n",
    "1. Increment our Prime Target (PT) to the next value\n",
    "1. Check to see if the PT is evenly divisble by any number (the Check Number CN) from 2 to the square root of the PT plus 1 (again, thanks to our resident mathematician, we don't have to test every number from 2 to the PT)\n",
    "1. The first instance where PT is evenly divisible by a CN, we know that PT is not prime so we can stop and move to the next integer number in above the current PT\n",
    "1. Increment the PT by one and keep looping until we find a PT that is not evenly divisible by any CN\n",
    "1. If we exahust our list of CN's and none of them result in an evenly divisible result, we have discovered a prime number, so we can break from our loop and report the result to the calling function\n",
    "\n",
    "The next call to our generator will pick up from where it left off.\n",
    "\n",
    "The main difference between the initial algorithm implemenation in eratosthenes() and the generator is that eratosthenes worked from a known length, pre-initialized list of numbers and cuts the members of the list down until only primes remained.\n",
    "\n",
    "The generator works by taking the next larger number and checking to see if that number itself is a prime.  If not, it proceeds to the next integer and keeps checking until if finds a prime number."
   ]
  },
  {
   "cell_type": "code",
   "execution_count": 12,
   "metadata": {
    "collapsed": false
   },
   "outputs": [
    {
     "name": "stdout",
     "output_type": "stream",
     "text": [
      "2\n",
      "3\n",
      "5\n",
      "7\n",
      "11\n",
      "13\n",
      "17\n",
      "19\n",
      "23\n",
      "29\n"
     ]
    }
   ],
   "source": [
    "#  find the first 10 prime numbers\n",
    "p = gen_eratosthenes()\n",
    "for index in range(0,10):  \n",
    "    print( next(p) )"
   ]
  },
  {
   "cell_type": "markdown",
   "metadata": {},
   "source": [
    "### Benchmarking Implementations\n",
    "Creating long lists of prime numbers can start taking up a noticeable amounts of computer time.  In addition, algorithms can be efficient in certain ranges of parameter settings and inefficient in others.  Benchmarking these two algorithms across a range of values shows that these algorithms are efficient at differing ranges of prime number sequences.\n",
    "\n",
    "The Sieve of Eratosthenes is more efficient when generating small lists of prime numbers:  under 1000 prime numbers in a sequence.  The Prime Number Generator is more efficient when generating long sequences of prime numbers:  over 10000 prime numbers in a sequence.\n",
    "\n",
    "So, knowing your intended need for prime number generation might be a determinant in which of the two algorithms to prefer.\n",
    "\n",
    "<!--\n",
    "    4 Primes      0.006 msec      0.05 msec\n",
    "   25 Primes      0.048 msec      0.09 msec\n",
    "  168 Primes      0.656 msec      1.15 msec\n",
    " 1229 Primes     12.6   msec     16.7  msec\n",
    " 9592 Primes    772     msec    292    msec\n",
    "78498 Primes 82.         sec  7.17      sec\n",
    "-->\n",
    "\n",
    "<table>\n",
    "  <tr align=\"center\">\n",
    "    <th>Number of Primes</th>\n",
    "    <th>Eratosthenes</th> \n",
    "    <th>Prime Generator</th>\n",
    "  </tr>\n",
    "  <tr align=\"right\">\n",
    "    <td>4</td>\n",
    "    <td>0.006 msec</td> \n",
    "    <td>0.05 msec</td>\n",
    "  </tr>\n",
    "  <tr align=right>\n",
    "    <td>25</td>\n",
    "    <td>0.048 msec</td> \n",
    "    <td>0.09 msec</td>\n",
    "  </tr>\n",
    "  <tr align=\"right\">\n",
    "    <td>168</td>\n",
    "    <td>0.656 msec</td> \n",
    "    <td>1.15 msec</td>\n",
    "  </tr>\n",
    "  <tr align=\"right\">\n",
    "    <td>1229</td>\n",
    "    <td>12.6   msec</td> \n",
    "    <td>16.7  msec</td>\n",
    "  </tr>\n",
    "  <tr align=\"right\">\n",
    "    <td>9592</td>\n",
    "    <td>772     msec</td> \n",
    "    <td>292    msec</td>\n",
    "  </tr>\n",
    "  <tr align=\"right\">\n",
    "    <td>78498</td>\n",
    "    <td>82.         sec</td> \n",
    "    <td>7.17      sec</td>\n",
    "  </tr>\n",
    "</table>\n",
    "\n",
    "The primary difference in speed between the two algorithms is that the Sieve must calculate every single prime in the desired range, whereas the generator is only calculating the next value in the sequence.  This means that the Sieve generates a list of all numbers between 1 and *N* and it touches ever single last number in the sequence and does so multiple times for many of those numbers.  In addition, traversing a list is time consuming versus dealing with a scalar.\n",
    "\n",
    "For the generator, it performs, on average, fewer calculations per number.  For example, for all even numbers, it performs the calculation exactly once: Even_Target_Number / 2 leaves no remainder, done with check go to next Target Number.\n",
    "\n",
    "That said, at the low end, there is not a significant difference in performance between the two algorithms when it comes to terms of human perception.  That is, a human can't tell the difference between a response time of 0.006 msec and 0.05 msec--only if you run the program several thousand times or more would a human be able to begin to notice a difference in performance.  \n",
    "\n",
    "For that reason, it would be reasonable to implement the prime number generator function only and be content with the results for most practical applications.\n",
    "\n",
    "Note also, it would be possible to significantly speed up our Sieve algorithm by generating a list of Targets that ended at $\\sqrt{N} + 1$ instead of going all the way to *N*.  Since there are no primes to be found beyond *N*, there is no need to check past *N*.  We leave this modification as an exercise for the reader.\n"
   ]
  },
  {
   "cell_type": "code",
   "execution_count": 62,
   "metadata": {
    "collapsed": false
   },
   "outputs": [
    {
     "name": "stdout",
     "output_type": "stream",
     "text": [
      "100 loops, best of 3: 12.4 ms per loop\n"
     ]
    }
   ],
   "source": [
    "%%timeit\n",
    "primes = eratosthenes( 10000 )\n",
    "#print( len( primes ) )\n",
    "# 10 ==> 4 primes\n",
    "# 100 ==> 25 primes\n",
    "# 1000 ==> 168 primes\n",
    "# 10000 ==> 1229 primes\n",
    "# 100000 ==> 9592 primes\n",
    "# 1000000 ==> 78498 primes"
   ]
  },
  {
   "cell_type": "code",
   "execution_count": 63,
   "metadata": {
    "collapsed": false
   },
   "outputs": [
    {
     "name": "stdout",
     "output_type": "stream",
     "text": [
      "100 loops, best of 3: 16.6 ms per loop\n"
     ]
    }
   ],
   "source": [
    "%%timeit\n",
    "p = gen_eratosthenes()\n",
    "for index in range(0,1229): next(p)\n",
    "#print( next(p) )\n",
    "#%time"
   ]
  }
 ],
 "metadata": {
  "kernelspec": {
   "display_name": "Anaconda (Python 3)",
   "language": "python",
   "name": "anaconda3"
  },
  "language_info": {
   "codemirror_mode": {
    "name": "ipython",
    "version": 3
   },
   "file_extension": ".py",
   "mimetype": "text/x-python",
   "name": "python",
   "nbconvert_exporter": "python",
   "pygments_lexer": "ipython3",
   "version": "3.5.2"
  }
 },
 "nbformat": 4,
 "nbformat_minor": 0
}
