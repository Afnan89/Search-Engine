{
 "cells": [
  {
   "cell_type": "code",
   "execution_count": 2,
   "metadata": {
    "collapsed": false
   },
   "outputs": [],
   "source": [
    "# By convention, import all modules at the top of the notebook so they don't get in the way later\n",
    "\n"
   ]
  },
  {
   "cell_type": "markdown",
   "metadata": {},
   "source": [
    "<!--this prints a function in-line with the surrounding text-->\n",
    "<!--to make it appear, the html comment marks must be removed from the following two lines-->\n",
    "<!--\n",
    "This is what $f(x)$ looks like for this example:\n",
    "$$f(x) = \\int_x^\\infty y^2\\, dy$$\n",
    "-->"
   ]
  },
  {
   "cell_type": "markdown",
   "metadata": {},
   "source": [
    "<!--this is a markdown comment-->\n",
    "<!--this is heading one text-->\n",
    "# CW04 Prime Number Generator\n",
    "<!--this is using the Latex equation syntax to print our names in italics-->\n",
    "$Nengyin\\,(Helen)\\,Zhu,\\, Lance\\, Clifner,\\, Alexis\\, Ford$ \n",
    "\n",
    "<!--this is normal body text-->\n",
    "September 20, 2016\n",
    "\n",
    "This is Classwork Assignment number 04.  In this project, we are officially switching from python 2 to python 3, and all further classwork will be completed in python 3."
   ]
  },
  {
   "cell_type": "markdown",
   "metadata": {},
   "source": [
    "For this project, we are creating a python script that computes a list of all the prime numbers between 1 and *N*, where *N* is a number passed on the command line to the prime number python script.\n",
    "\n",
    "The algorithm we have implemented to calculate the prime number is the <a href=\"https://en.wikipedia.org/wiki/Sieve_of_Eratosthenes\">Sieve of Eratosthenes</a>.  You can follow this link to see a complete description of the algorithm, along with an animation that visually demonstrates the algorithm's steps.  \n",
    "\n",
    "In brief, the algorithm creates a sequence of all integers between 2 and *N*.  The algorithm then starts with the number 2 (the smallest prime number), and eliminates all multiples of 2.  The algorithm then finds the next number in the sequence that has not yet been eliminated (this is the next prime number in the sequence), and proceeds to remove all multiples of that new number from the sequence.  Lather, rinse, and repeat until *N* is reached.\n",
    "\n",
    "Because we have a mathmetician in our group, we know that you can stop your search for primes once you have reached $\\sqrt{N}$."
   ]
  },
  {
   "cell_type": "markdown",
   "metadata": {},
   "source": [
    "Our hero, Eratosthenes of Cyrene: \n",
    "![Alt text](http://www.conservapedia.com/images/b/bc/Eratosthenes.jpg \"Eratosthenes of Cyrene\")"
   ]
  },
  {
   "cell_type": "markdown",
   "metadata": {},
   "source": [
    "Next is our cut at a python implementation of Eratosthenes Sieve."
   ]
  },
  {
   "cell_type": "code",
   "execution_count": null,
   "metadata": {
    "collapsed": true
   },
   "outputs": [],
   "source": [
    "# insert the prime number function here"
   ]
  },
  {
   "cell_type": "markdown",
   "metadata": {},
   "source": [
    "# Design Considerations\n"
   ]
  },
  {
   "cell_type": "markdown",
   "metadata": {},
   "source": [
    "## Conclusion\n",
    "\n",
    "Happy notebooking."
   ]
  }
 ],
 "metadata": {
  "kernelspec": {
   "display_name": "Anaconda (Python 3)",
   "language": "python",
   "name": "anaconda3"
  },
  "language_info": {
   "codemirror_mode": {
    "name": "ipython",
    "version": 3
   },
   "file_extension": ".py",
   "mimetype": "text/x-python",
   "name": "python",
   "nbconvert_exporter": "python",
   "pygments_lexer": "ipython3",
   "version": "3.5.2"
  }
 },
 "nbformat": 4,
 "nbformat_minor": 0
}
